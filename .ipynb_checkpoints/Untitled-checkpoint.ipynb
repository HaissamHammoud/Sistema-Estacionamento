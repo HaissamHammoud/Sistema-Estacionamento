{
 "cells": [
  {
   "cell_type": "code",
   "execution_count": 176,
   "metadata": {},
   "outputs": [
    {
     "name": "stdout",
     "output_type": "stream",
     "text": [
      "2019-01-30 14:45:07.494400\n",
      "2019-01-30 14:58:10.370721\n",
      "<class 'datetime.datetime'>\n",
      "0:13:02.876321\n"
     ]
    }
   ],
   "source": [
    "import datetime\n",
    "import numpy as np\n",
    "import sqlite3 as sql\n",
    "\n",
    "conn = sql.connect(\"Patio.db\")\n",
    "cur = conn.cursor()\n",
    "cur.execute(\"SELECT horario FROM carros WHERE placa = 'ayt3090' \")\n",
    "rows = cur.fetchall()\n",
    "print(rows[0][0])\n",
    "saida = datetime.datetime.now()\n",
    "print(saida)\n",
    "b= rows[0][0]\n",
    "entrada= datetime.datetime.strptime(b,'%Y-%m-%d %H:%M:%S.%f')\n",
    "print(type(entrada))\n",
    "deltas = saida-entrada\n",
    "print(deltas)\n",
    "\n",
    "\n",
    "\n"
   ]
  },
  {
   "cell_type": "code",
   "execution_count": 169,
   "metadata": {},
   "outputs": [
    {
     "name": "stdout",
     "output_type": "stream",
     "text": [
      "1289.3848319666665\n",
      "21.48974719944444\n"
     ]
    }
   ],
   "source": [
    "sec = abs(delta.total_seconds())\n",
    "minutes = sec / 60\n",
    "print(minutes)\n",
    "hours = minutes/60\n",
    "\n",
    "print(hours)"
   ]
  },
  {
   "cell_type": "code",
   "execution_count": null,
   "metadata": {},
   "outputs": [],
   "source": []
  }
 ],
 "metadata": {
  "kernelspec": {
   "display_name": "Python 3",
   "language": "python",
   "name": "python3"
  },
  "language_info": {
   "codemirror_mode": {
    "name": "ipython",
    "version": 3
   },
   "file_extension": ".py",
   "mimetype": "text/x-python",
   "name": "python",
   "nbconvert_exporter": "python",
   "pygments_lexer": "ipython3",
   "version": "3.6.3"
  }
 },
 "nbformat": 4,
 "nbformat_minor": 2
}
